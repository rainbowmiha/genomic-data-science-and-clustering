{
 "cells": [
  {
   "cell_type": "code",
   "execution_count": null,
   "metadata": {
    "id": "mmx7hviYFTSL"
   },
   "outputs": [],
   "source": [
    "# A function which calculates Euclidean distance\n",
    "import math\n",
    "def euclidean_dist(a,b):\n",
    "  len_vector = len(a)\n",
    "  d = 0\n",
    "  for i in range(len_vector):\n",
    "    d = d + (a[i] - b[i])**2\n",
    "  d = math.sqrt(d)\n",
    "\n",
    "  return d  "
   ]
  },
  {
   "cell_type": "code",
   "execution_count": null,
   "metadata": {
    "id": "1Puo5LcWBvTG"
   },
   "outputs": [],
   "source": [
    "# Input:\n",
    "# centers - list; a list of m-dimensional points chosen for centers\n",
    "# dataPoints - list; a list of m-dimensional points \n",
    "# Output:\n",
    "# sqr_error_dist - float; the average error of the sum of squares of\n",
    "#                  the min euclidean distance between each point and the centres\n",
    "\n",
    "def squared_error_distortion(centers, dataPoints):\n",
    "  n = len(dataPoints)\n",
    "  sum_sq_euclid_dists = 0\n",
    "  for i in dataPoints:\n",
    "    min_euclidean = math.inf\n",
    "    for j in centers:\n",
    "      if euclidean_dist(i,j) < min_euclidean:\n",
    "        min_euclidean = euclidean_dist(i,j)\n",
    "    sum_sq_euclid_dists = sum_sq_euclid_dists + min_euclidean**2   \n",
    "\n",
    "  sqr_error_dist = sum_sq_euclid_dists/n    \n",
    "\n",
    "  return sqr_error_dist\n",
    "\n",
    "\n"
   ]
  },
  {
   "cell_type": "code",
   "execution_count": null,
   "metadata": {
    "id": "mqxZdIYYPQF3"
   },
   "outputs": [],
   "source": [
    "f = open('/dir/test_data/squared_error_distortion_test_set.txt', 'r+')"
   ]
  },
  {
   "cell_type": "code",
   "execution_count": null,
   "metadata": {
    "id": "hIoNx5c3PSvz"
   },
   "outputs": [],
   "source": [
    "# extract test data from txt file\n",
    "dataPoints = []\n",
    "num_cents = 0\n",
    "centers = []\n",
    "with f as file:\n",
    "  # extract number of centers\n",
    "  num_cents = f.readline()[0]\n",
    "  num_cents = int(num_cents)\n",
    "  # extract centres' coordinates\n",
    "  for j in range(num_cents):\n",
    "    centers.append(f.readline().rstrip().split(' '))\n",
    "  for k in range(len(centers)):\n",
    "    centers[k] = [float(x) for x in centers[k]]\n",
    "  # extract data points\n",
    "  dataPoints = list((line.strip().split(' ') for line in file))\n",
    "  dataPoints = dataPoints[1:]\n",
    "  for i in range(len(dataPoints)):\n",
    "    dataPoints[i] = [float(x) for x in dataPoints[i]]\n",
    "              "
   ]
  },
  {
   "cell_type": "code",
   "execution_count": null,
   "metadata": {
    "colab": {
     "base_uri": "https://localhost:8080/",
     "height": 34
    },
    "id": "qypCVEvkW0xK",
    "outputId": "133b828b-222a-4d4b-ea3c-4b8b3ce7f9f8"
   },
   "outputs": [
    {
     "data": {
      "text/plain": [
       "43.064784546805384"
      ]
     },
     "execution_count": 60,
     "metadata": {
      "tags": []
     },
     "output_type": "execute_result"
    }
   ],
   "source": [
    "squared_error_distortion(centers, dataPoints)"
   ]
  }
 ],
 "metadata": {
  "colab": {
   "authorship_tag": "ABX9TyNWdCwhGTastAF/RsfElJVq",
   "collapsed_sections": [],
   "include_colab_link": true,
   "name": "Copy of SquaredErrorDistortion.ipynb",
   "provenance": []
  },
  "kernelspec": {
   "display_name": "Python 3",
   "language": "python",
   "name": "python3"
  },
  "language_info": {
   "codemirror_mode": {
    "name": "ipython",
    "version": 3
   },
   "file_extension": ".py",
   "mimetype": "text/x-python",
   "name": "python",
   "nbconvert_exporter": "python",
   "pygments_lexer": "ipython3",
   "version": "3.8.3"
  }
 },
 "nbformat": 4,
 "nbformat_minor": 1
}
