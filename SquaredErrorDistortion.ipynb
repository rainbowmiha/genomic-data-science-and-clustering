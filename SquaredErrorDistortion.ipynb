{
  "nbformat": 4,
  "nbformat_minor": 0,
  "metadata": {
    "colab": {
      "name": "SquaredErrorDistortion.ipynb",
      "provenance": [],
      "collapsed_sections": [],
      "authorship_tag": "ABX9TyPce9DDe5GectnDupa+irwh",
      "include_colab_link": true
    },
    "kernelspec": {
      "name": "python3",
      "display_name": "Python 3"
    }
  },
  "cells": [
    {
      "cell_type": "markdown",
      "metadata": {
        "id": "view-in-github",
        "colab_type": "text"
      },
      "source": [
        "<a href=\"https://colab.research.google.com/github/rainbowmiha/genomic-data-science-and-clustering/blob/main/SquaredErrorDistortion.ipynb\" target=\"_parent\"><img src=\"https://colab.research.google.com/assets/colab-badge.svg\" alt=\"Open In Colab\"/></a>"
      ]
    },
    {
      "cell_type": "code",
      "metadata": {
        "id": "mmx7hviYFTSL"
      },
      "source": [
        "# A function which calculates Euclidean distance\n",
        "import math\n",
        "def euclidean_dist(a,b):\n",
        "  len_vector = len(a)\n",
        "  d = 0\n",
        "  for i in range(len_vector):\n",
        "    d = d + (a[i] - b[i])**2\n",
        "  d = math.sqrt(d)\n",
        "\n",
        "  return d  "
      ],
      "execution_count": null,
      "outputs": []
    },
    {
      "cell_type": "code",
      "metadata": {
        "id": "1Puo5LcWBvTG"
      },
      "source": [
        "# Input:\n",
        "# centers - list; a list of m-dimensional points chosen for centers\n",
        "# dataPoints - list; a list of m-dimensional points \n",
        "# Output:\n",
        "# sqr_error_dist - float; the average error of the sum of squares of\n",
        "#                  the min euclidean distance between each point and the centres\n",
        "\n",
        "def squared_error_distortion(centers, dataPoints):\n",
        "  n = len(dataPoints)\n",
        "  sum_sq_euclid_dists = 0\n",
        "  for i in dataPoints:\n",
        "    min_euclidean = math.inf\n",
        "    for j in centers:\n",
        "      if euclidean_dist(i,j) < min_euclidean:\n",
        "        min_euclidean = euclidean_dist(i,j)\n",
        "    sum_sq_euclid_dists = sum_sq_euclid_dists + min_euclidean**2   \n",
        "\n",
        "  sqr_error_dist = sum_sq_euclid_dists/n    \n",
        "\n",
        "  return sqr_error_dist\n",
        "\n",
        "\n"
      ],
      "execution_count": null,
      "outputs": []
    },
    {
      "cell_type": "code",
      "metadata": {
        "id": "NtBv4wBsJZmO",
        "outputId": "c28ed671-7a91-48f5-b5a3-ddc2969e907e",
        "colab": {
          "base_uri": "https://localhost:8080/",
          "height": 34
        }
      },
      "source": [
        "centers = [[2.31, 4.55], [5.96, 9.08]]\n",
        "dataPoints = [[3.42,6.03], [6.23, 8.25], [4.76, 1.64], [4.47, 4.33], [3.95, 7.61], [8.93, 2.97], [9.74, 4.03], [1.73, 1.28], [9.72, 5.01], [7.27, 3.77]]\n",
        "sq_err_dist = squared_error_distortion(centers, dataPoints)\n",
        "print(sq_err_dist)"
      ],
      "execution_count": null,
      "outputs": [
        {
          "output_type": "stream",
          "text": [
            "18.24556\n"
          ],
          "name": "stdout"
        }
      ]
    },
    {
      "cell_type": "code",
      "metadata": {
        "id": "Mnsd4OFKO714"
      },
      "source": [
        "from google.colab import drive\n",
        "drive.mount('/content/drive')"
      ],
      "execution_count": null,
      "outputs": []
    },
    {
      "cell_type": "code",
      "metadata": {
        "id": "mqxZdIYYPQF3"
      },
      "source": [
        "f = open('/content/drive/My Drive/BioinformaticsSpec/Course5_Genomic_Data_Science_and_Clustering/Week1/dataset_10927_3.txt', 'r+')"
      ],
      "execution_count": null,
      "outputs": []
    },
    {
      "cell_type": "code",
      "metadata": {
        "id": "hIoNx5c3PSvz"
      },
      "source": [
        "# extract test data from txt file\n",
        "dataPoints = []\n",
        "num_cents = 0\n",
        "centers = []\n",
        "with f as file:\n",
        "  # extract number of centers\n",
        "  num_cents = f.readline()[0]\n",
        "  num_cents = int(num_cents)\n",
        "  # extract centres' coordinates\n",
        "  for j in range(num_cents):\n",
        "    centers.append(f.readline().rstrip().split(' '))\n",
        "  for k in range(len(centers)):\n",
        "    centers[k] = [float(x) for x in centers[k]]\n",
        "  # extract data points\n",
        "  dataPoints = list((line.strip().split(' ') for line in file))\n",
        "  dataPoints = dataPoints[1:]\n",
        "  for i in range(len(dataPoints)):\n",
        "    dataPoints[i] = [float(x) for x in dataPoints[i]]\n",
        "              "
      ],
      "execution_count": null,
      "outputs": []
    },
    {
      "cell_type": "code",
      "metadata": {
        "id": "qypCVEvkW0xK",
        "outputId": "133b828b-222a-4d4b-ea3c-4b8b3ce7f9f8",
        "colab": {
          "base_uri": "https://localhost:8080/",
          "height": 34
        }
      },
      "source": [
        "squared_error_distortion(centers, dataPoints)"
      ],
      "execution_count": null,
      "outputs": [
        {
          "output_type": "execute_result",
          "data": {
            "text/plain": [
              "43.064784546805384"
            ]
          },
          "metadata": {
            "tags": []
          },
          "execution_count": 60
        }
      ]
    }
  ]
}