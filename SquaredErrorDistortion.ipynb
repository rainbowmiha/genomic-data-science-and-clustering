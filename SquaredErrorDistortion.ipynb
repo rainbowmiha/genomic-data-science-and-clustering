{
  "nbformat": 4,
  "nbformat_minor": 0,
  "metadata": {
    "colab": {
      "name": "Copy of SquaredErrorDistortion.ipynb",
      "provenance": [],
      "collapsed_sections": [],
      "authorship_tag": "ABX9TyNWdCwhGTastAF/RsfElJVq",
      "include_colab_link": true
    },
    "kernelspec": {
      "name": "python3",
      "display_name": "Python 3"
    }
  },
  "cells": [
    {
      "cell_type": "markdown",
      "metadata": {
        "id": "view-in-github",
        "colab_type": "text"
      },
      "source": [
        "<a href=\"https://colab.research.google.com/github/rainbowmiha/genomic-data-science-and-clustering/blob/main/SquaredErrorDistortion.ipynb\" target=\"_parent\"><img src=\"https://colab.research.google.com/assets/colab-badge.svg\" alt=\"Open In Colab\"/></a>"
      ]
    },
    {
      "cell_type": "code",
      "metadata": {
        "id": "mmx7hviYFTSL"
      },
      "source": [
        "# A function which calculates Euclidean distance\n",
        "import math\n",
        "def euclidean_dist(a,b):\n",
        "  len_vector = len(a)\n",
        "  d = 0\n",
        "  for i in range(len_vector):\n",
        "    d = d + (a[i] - b[i])**2\n",
        "  d = math.sqrt(d)\n",
        "\n",
        "  return d  "
      ],
      "execution_count": null,
      "outputs": []
    },
    {
      "cell_type": "code",
      "metadata": {
        "id": "1Puo5LcWBvTG"
      },
      "source": [
        "# Input:\n",
        "# centers - list; a list of m-dimensional points chosen for centers\n",
        "# dataPoints - list; a list of m-dimensional points \n",
        "# Output:\n",
        "# sqr_error_dist - float; the average error of the sum of squares of\n",
        "#                  the min euclidean distance between each point and the centres\n",
        "\n",
        "def squared_error_distortion(centers, dataPoints):\n",
        "  n = len(dataPoints)\n",
        "  sum_sq_euclid_dists = 0\n",
        "  for i in dataPoints:\n",
        "    min_euclidean = math.inf\n",
        "    for j in centers:\n",
        "      if euclidean_dist(i,j) < min_euclidean:\n",
        "        min_euclidean = euclidean_dist(i,j)\n",
        "    sum_sq_euclid_dists = sum_sq_euclid_dists + min_euclidean**2   \n",
        "\n",
        "  sqr_error_dist = sum_sq_euclid_dists/n    \n",
        "\n",
        "  return sqr_error_dist\n",
        "\n",
        "\n"
      ],
      "execution_count": null,
      "outputs": []
    },
    {
      "cell_type": "code",
      "metadata": {
        "id": "mqxZdIYYPQF3"
      },
      "source": [
        "f = open('/dir/dataset_10927_3.txt', 'r+')"
      ],
      "execution_count": null,
      "outputs": []
    },
    {
      "cell_type": "code",
      "metadata": {
        "id": "hIoNx5c3PSvz"
      },
      "source": [
        "# extract test data from txt file\n",
        "dataPoints = []\n",
        "num_cents = 0\n",
        "centers = []\n",
        "with f as file:\n",
        "  # extract number of centers\n",
        "  num_cents = f.readline()[0]\n",
        "  num_cents = int(num_cents)\n",
        "  # extract centres' coordinates\n",
        "  for j in range(num_cents):\n",
        "    centers.append(f.readline().rstrip().split(' '))\n",
        "  for k in range(len(centers)):\n",
        "    centers[k] = [float(x) for x in centers[k]]\n",
        "  # extract data points\n",
        "  dataPoints = list((line.strip().split(' ') for line in file))\n",
        "  dataPoints = dataPoints[1:]\n",
        "  for i in range(len(dataPoints)):\n",
        "    dataPoints[i] = [float(x) for x in dataPoints[i]]\n",
        "              "
      ],
      "execution_count": null,
      "outputs": []
    },
    {
      "cell_type": "code",
      "metadata": {
        "id": "qypCVEvkW0xK",
        "outputId": "133b828b-222a-4d4b-ea3c-4b8b3ce7f9f8",
        "colab": {
          "base_uri": "https://localhost:8080/",
          "height": 34
        }
      },
      "source": [
        "squared_error_distortion(centers, dataPoints)"
      ],
      "execution_count": null,
      "outputs": [
        {
          "output_type": "execute_result",
          "data": {
            "text/plain": [
              "43.064784546805384"
            ]
          },
          "metadata": {
            "tags": []
          },
          "execution_count": 60
        }
      ]
    }
  ]
}