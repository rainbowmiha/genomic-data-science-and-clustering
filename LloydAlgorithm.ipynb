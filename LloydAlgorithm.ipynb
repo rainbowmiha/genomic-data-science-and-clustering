{
  "nbformat": 4,
  "nbformat_minor": 0,
  "metadata": {
    "colab": {
      "name": "Copy of LloydAlgorithm.ipynb",
      "provenance": [],
      "collapsed_sections": [],
      "authorship_tag": "ABX9TyNd0KMX3TikjIffmZWs73UV",
      "include_colab_link": true
    },
    "kernelspec": {
      "name": "python3",
      "display_name": "Python 3"
    }
  },
  "cells": [
    {
      "cell_type": "markdown",
      "metadata": {
        "id": "view-in-github",
        "colab_type": "text"
      },
      "source": [
        "<a href=\"https://colab.research.google.com/github/rainbowmiha/genomic-data-science-and-clustering/blob/main/LloydAlgorithm.ipynb\" target=\"_parent\"><img src=\"https://colab.research.google.com/assets/colab-badge.svg\" alt=\"Open In Colab\"/></a>"
      ]
    },
    {
      "cell_type": "code",
      "metadata": {
        "id": "vwR4Ro20com3"
      },
      "source": [
        "# Description:\n",
        "#   The Lloyd algorithm is one of the most popular clustering heuristics for the k-Means Clustering Problem.\n",
        "# It first chooses k arbitrary distinct points Centers from Data as centers and then iteratively performs \n",
        "# the following two steps, given below, until the squared distortion error  \n",
        "# between the old and new centers decreases below a certain threshold epsilon:\n",
        "#\n",
        "# * Centers to Clusters: After centers have been selected, assign each data point to\n",
        "#                       the cluster corresponding to its nearest center; ties are broken arbitrarily.\n",
        "# * Clusters to Centers: After data points have been assigned to clusters, assign each cluster’s \n",
        "#                        center of gravity to be the cluster’s new center.\n",
        "\n",
        "# Note that in our case we choose as initial centres the first k points of the dataPoint list, rather than\n",
        "# arbitrary ones.\n",
        "# Input: \n",
        "#   -num_clust - integer; number of clusters into which data will be split\n",
        "#   -dataPoints - list; a list of m-dimensional points, which will be split into clusters\n",
        "#   -epsilon - float; rate of change between squared error distortion\n",
        "#   -max_iter - int; max number of iterations for the alg to be executed\n",
        "#\n",
        "# Output:\n",
        "#   -Print number of iterations it took to obtain centers of clusters\n",
        "#   -Print centers\n",
        "\n",
        "\n"
      ],
      "execution_count": null,
      "outputs": []
    },
    {
      "cell_type": "code",
      "metadata": {
        "id": "C5Tbs-ncEXIW"
      },
      "source": [
        "# A function which calculates Euclidean distance\n",
        "import math\n",
        "def euclidean_dist(a,b):\n",
        "  len_vector = len(a)\n",
        "  dist = 0\n",
        "  for i in range(len_vector):\n",
        "    dist += (a[i] - b[i])**2\n",
        "  dist = math.sqrt(dist)\n",
        "\n",
        "  return dist "
      ],
      "execution_count": null,
      "outputs": []
    },
    {
      "cell_type": "code",
      "metadata": {
        "id": "TtIzQsQv9XqI"
      },
      "source": [
        "import math\n",
        "# Input:\n",
        "#   -a - list; an m-dimensional point\n",
        "#   -centers - list; a list of m-dimensional points\n",
        "# Ouput:\n",
        "#   -(min_center, min_dist)) - tuple:\n",
        "#                     - min_center - int; point in centers which minimizes Euclidean dist\n",
        "#                     - min_dist - float; min Euclidean dist between a and min_center \n",
        "def closest_center(a, centers):\n",
        "  min_dist = math.inf\n",
        "  for i in range(len(centers)):\n",
        "    if euclidean_dist(a, centers[i]) < min_dist:\n",
        "      min_dist = euclidean_dist(a, centers[i])\n",
        "      min_center = i\n",
        "  \n",
        "  return (min_center, min_dist)    \n"
      ],
      "execution_count": null,
      "outputs": []
    },
    {
      "cell_type": "code",
      "metadata": {
        "id": "iukIhxb3KmMs"
      },
      "source": [
        "# find the centroid of a cluster of k points\n",
        "# Input:\n",
        "#    -cluster - list; a set of m-dimensional points whose centroid needs to be found\n",
        "#    -m - integer; dimension of the points in cluster\n",
        "# Output:\n",
        "#    -centroid - list; an m-dimensional point, centroid of the cluster\n",
        "\n",
        "def centroid(cluster,m):\n",
        "  center = [0.0 for _ in range(m)]\n",
        "  for point in cluster:\n",
        "    for i in range(m):\n",
        "      center[i] += point[i]\n",
        "  centroid = [t/len(cluster) for t in center]\n",
        "  \n",
        "  return centroid"
      ],
      "execution_count": null,
      "outputs": []
    },
    {
      "cell_type": "code",
      "metadata": {
        "id": "4xn1ekJWOe4u"
      },
      "source": [
        "# Input:\n",
        "#    -centers - list; a list of m-dimensional points chosen for centers\n",
        "#    -dataPoints - list; a list of m-dimensional points \n",
        "# Output:\n",
        "#   -sqr_error_dist - float; the average error of the sum of squares of\n",
        "#                  the min euclidean distance between each point and the centres\n",
        "\n",
        "def squared_error_distortion(centers, dataPoints):\n",
        "  n = len(dataPoints)\n",
        "  sum_sq_euclid_dists = 0\n",
        "  for i in dataPoints:\n",
        "    min_center, min_dist = closest_center(i, centers)\n",
        "    sum_sq_euclid_dists = sum_sq_euclid_dists + min_dist**2   \n",
        "  sqr_error_dist = sum_sq_euclid_dists/n    \n",
        "\n",
        "  return sqr_error_dist\n",
        "\n"
      ],
      "execution_count": null,
      "outputs": []
    },
    {
      "cell_type": "code",
      "metadata": {
        "id": "9PjO_5D9geQp"
      },
      "source": [
        "import copy\n",
        "import numpy as np\n",
        "\n",
        "def lloyd_algorithm(k, dataPoints, epsilon, max_iter):\n",
        "  # initialize centers with first k points from dataPoints\n",
        "  centers = dataPoints[:k]\n",
        "  # initiate iteration counter  \n",
        "  i = 0\n",
        "  while i < max_iter:\n",
        "    # initiate empty list of lists for clusters\n",
        "    clusters = [[] for i in range(k)]\n",
        "    # save old list of centers before updating it\n",
        "    old_centers = copy.deepcopy(centers)\n",
        "    for j in dataPoints:\n",
        "      # min_cent is the index of closest center to j (in the centers list)\n",
        "      min_center = closest_center(j, centers)[0]   \n",
        "      # add data point to cluster with centre which minimizes euclidean dist to point    \n",
        "      clusters[min_center].append(j)    \n",
        "\n",
        "    for z in range(len(centers)):\n",
        "      centers[z] = centroid(clusters[z], len(dataPoints[0]))\n",
        "    i += 1\n",
        "\n",
        "    if squared_error_distortion(centers, old_centers) < epsilon:\n",
        "      break\n",
        "  print('number of iterations: ', i)\n",
        "\n",
        "  # put centers' coordinates in the required for the task format\n",
        "  for t in range(len(centers)):\n",
        "    round_point = ['{0:.3f}'.format(val) for val in centers[t]]\n",
        "    s = ''\n",
        "    for r in round_point:\n",
        "      s = s + str(r) + ' '\n",
        "    print(s)\n",
        "  "
      ],
      "execution_count": null,
      "outputs": []
    },
    {
      "cell_type": "code",
      "metadata": {
        "id": "4evIalUdFAan"
      },
      "source": [
        "f = open('/dir/folder/lloyd_test_data.txt', 'r+')"
      ],
      "execution_count": null,
      "outputs": []
    },
    {
      "cell_type": "code",
      "metadata": {
        "id": "u_F6POF2148q"
      },
      "source": [
        "# extract test data from txt file\n",
        "dataPoints = []\n",
        "num_cents = 0\n",
        "centers = []\n",
        "with f as file:\n",
        "  # extract number of centers\n",
        "  num_cents = f.readline()[0]\n",
        "  num_cents = int(num_cents)\n",
        "  # extract centres' coordinates\n",
        "  for j in range(num_cents):\n",
        "    centers.append(f.readline().rstrip().split(' '))\n",
        "  for k in range(len(centers)):\n",
        "    centers[k] = [float(x) for x in centers[k]]\n",
        "  # extract data points\n",
        "  dataPoints = list((line.strip().split(' ') for line in file))\n",
        "  dataPoints = dataPoints[1:]\n",
        "  for i in range(len(dataPoints)):\n",
        "    dataPoints[i] = [float(x) for x in dataPoints[i]]\n",
        "              "
      ],
      "execution_count": null,
      "outputs": []
    },
    {
      "cell_type": "code",
      "metadata": {
        "id": "kCj9os3i0p3K",
        "outputId": "3686f067-44fa-4d4f-f4a2-85e6387d2a33",
        "colab": {
          "base_uri": "https://localhost:8080/",
          "height": 136
        }
      },
      "source": [
        "lloyd_algorithm(num_cents, dataPoints, epsilon = 0.0000000000000000000001, max_iter = 10000)"
      ],
      "execution_count": null,
      "outputs": [
        {
          "output_type": "stream",
          "text": [
            "number of iterations:  23\n",
            "7.690 6.038 16.543 5.803 7.083 \n",
            "5.119 4.699 5.037 5.174 4.629 \n",
            "18.282 6.156 5.500 6.708 6.136 \n",
            "7.294 6.936 7.258 18.686 7.140 \n",
            "6.101 6.321 5.705 6.919 17.394 \n",
            "7.286 17.464 7.084 5.661 6.938 \n"
          ],
          "name": "stdout"
        }
      ]
    }
  ]
}