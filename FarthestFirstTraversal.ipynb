{
  "nbformat": 4,
  "nbformat_minor": 0,
  "metadata": {
    "colab": {
      "name": "FarthestFirstTraversal.ipynb",
      "provenance": [],
      "collapsed_sections": [],
      "authorship_tag": "ABX9TyOYMq9T+kaMq5zHPFVag0oh"
    },
    "kernelspec": {
      "name": "python3",
      "display_name": "Python 3"
    }
  },
  "cells": [
    {
      "cell_type": "code",
      "metadata": {
        "id": "Kjpdwas8H_7e"
      },
      "source": [
        "# A function which calculates Euclidean distance\n",
        "import math\n",
        "def euclidean_dist(a,b):\n",
        "  len_vector = len(a)\n",
        "  d = 0\n",
        "  for i in range(len_vector):\n",
        "    d = d + (a[i] - b[i])**2\n",
        "  d = math.sqrt(d)\n",
        "\n",
        "  return d  "
      ],
      "execution_count": null,
      "outputs": []
    },
    {
      "cell_type": "code",
      "metadata": {
        "id": "rLJZJ5QAJ2q3",
        "outputId": "35cca77f-1b97-46f5-dcc1-a3905f5e5457",
        "colab": {
          "base_uri": "https://localhost:8080/",
          "height": 34
        }
      },
      "source": [
        "a = [1,1,1]\n",
        "b = [1,2,1]\n",
        "print(euclidean_dist(a,b))"
      ],
      "execution_count": null,
      "outputs": [
        {
          "output_type": "stream",
          "text": [
            "1.0\n"
          ],
          "name": "stdout"
        }
      ]
    },
    {
      "cell_type": "code",
      "metadata": {
        "id": "cvfzeipyD-V1"
      },
      "source": [
        "# Input:\n",
        "#   dataPoints - list; A list of points in m-dimensional space\n",
        "#   num_cents - int; A number of centers to be found\n",
        "# Output: \n",
        "#   centers - list; a list of points which are determined to be centers\n",
        "\n",
        "# Description:\n",
        "# Given a list of m-dimensional points(dataPoints) and a number of centers(num_cents),\n",
        "# the function takes the first point as center, and then adds as consequent centers,\n",
        "# satisfying the following:\n",
        "#   1) For each point, get the minimum value among the distances from that point to each center: d(DataPoint, Centers)\n",
        "#   2) Get the point with maximum value of d(DataPoint, Centers), and add that point to centers\n",
        "\n",
        "def FarthestFirstTraversal(dataPoints, num_cents):\n",
        "  # a list which only contains one element - the first point from the list of points\n",
        "  centers = [dataPoints[0]]\n",
        "  max_dist = 0\n",
        "  while len(centers) < num_cents:\n",
        "    for i in dataPoints:\n",
        "      if i not in centers:\n",
        "        min_dist_cents = math.inf\n",
        "        for j in centers:\n",
        "          if euclidean_dist(i,j) < min_dist_cents:\n",
        "            min_dist_cents = euclidean_dist(i,j)\n",
        "        if min_dist_cents > max_dist:\n",
        "          max_dist = min_dist_cents\n",
        "          potential_center = i\n",
        "    centers.append(potential_center) \n",
        "    max_dist = 0\n",
        "\n",
        "  return centers"
      ],
      "execution_count": null,
      "outputs": []
    },
    {
      "cell_type": "code",
      "metadata": {
        "id": "v5H0VrRO6Qef"
      },
      "source": [
        "# a function which prints out the coordinates of the centers in the required\n",
        "# format for Stepik\n",
        "\n",
        "def print_centers(centers):\n",
        "  for i in centers:\n",
        "    s = ''\n",
        "    for j in i:\n",
        "      s = s + str(j) + ' '\n",
        "    print(s)  "
      ],
      "execution_count": null,
      "outputs": []
    },
    {
      "cell_type": "code",
      "metadata": {
        "id": "832Cx5jeQheH",
        "outputId": "a3cb597c-e81d-4029-e903-ab63331c3c3e",
        "colab": {
          "base_uri": "https://localhost:8080/",
          "height": 68
        }
      },
      "source": [
        "num_cents = 3\n",
        "dataPoints = [[0.0, 0.0],[5.0, 5.0],[0.0, 5.0],[1.0, 1.0], [2.0, 2.0], [3.0, 3.0], [1.0, 2.0]]\n",
        "centers = FarthestFirstTraversal(dataPoints, num_cents)\n",
        "print_centers(centers)"
      ],
      "execution_count": null,
      "outputs": [
        {
          "output_type": "stream",
          "text": [
            "0.0 0.0 \n",
            "5.0 5.0 \n",
            "0.0 5.0 \n"
          ],
          "name": "stdout"
        }
      ]
    },
    {
      "cell_type": "code",
      "metadata": {
        "id": "rl8hjc4rTp45",
        "outputId": "536fd2c7-c5a6-497c-d840-c17e71e656cc",
        "colab": {
          "base_uri": "https://localhost:8080/",
          "height": 34
        }
      },
      "source": [
        "from google.colab import drive\n",
        "drive.mount('/content/drive', force_remount=True)"
      ],
      "execution_count": null,
      "outputs": [
        {
          "output_type": "stream",
          "text": [
            "Mounted at /content/drive\n"
          ],
          "name": "stdout"
        }
      ]
    },
    {
      "cell_type": "code",
      "metadata": {
        "id": "TMHRGXwgdv15"
      },
      "source": [
        "f = open('/dir/folder/farthest_first_traversal.txt', 'r+')"
      ],
      "execution_count": null,
      "outputs": []
    },
    {
      "cell_type": "code",
      "metadata": {
        "id": "RJ2KeD1aUemD"
      },
      "source": [
        "dataPoints = []\n",
        "num_cents = 0\n",
        "with f as file:\n",
        "  num_cents = f.readline()[0]\n",
        "  num_cents = int(num_cents)\n",
        "  dataPoints = list((line.strip().split(' ') for line in file))\n",
        "  for i in range(len(dataPoints)):\n",
        "    dataPoints[i] = [float(x) for x in dataPoints[i]]\n",
        "            "
      ],
      "execution_count": null,
      "outputs": []
    },
    {
      "cell_type": "code",
      "metadata": {
        "id": "flu9Spd7a8xk",
        "outputId": "b063df60-03d1-40a0-979f-2bb1a85f508f",
        "colab": {
          "base_uri": "https://localhost:8080/",
          "height": 119
        }
      },
      "source": [
        "centers = FarthestFirstTraversal(dataPoints, num_cents)\n",
        "print_centers(centers)"
      ],
      "execution_count": null,
      "outputs": [
        {
          "output_type": "stream",
          "text": [
            "2.3 14.4 10.6 9.6 \n",
            "36.2 24.8 2.6 4.0 \n",
            "7.5 4.3 45.1 12.3 \n",
            "11.4 0.5 0.7 31.5 \n",
            "24.1 0.1 19.8 9.7 \n",
            "13.5 35.8 0.6 8.9 \n"
          ],
          "name": "stdout"
        }
      ]
    }
  ]
}
